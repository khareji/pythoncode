{
 "cells": [
  {
   "cell_type": "code",
   "execution_count": 1,
   "metadata": {},
   "outputs": [
    {
     "data": {
      "text/plain": [
       "tuple"
      ]
     },
     "execution_count": 1,
     "metadata": {},
     "output_type": "execute_result"
    }
   ],
   "source": [
    "a=(1,1,2,3,4)\n",
    "type(a)"
   ]
  },
  {
   "cell_type": "code",
   "execution_count": 2,
   "metadata": {},
   "outputs": [
    {
     "name": "stdout",
     "output_type": "stream",
     "text": [
      "(1, 1, 2, 3, 4)\n"
     ]
    }
   ],
   "source": [
    "print(a)"
   ]
  },
  {
   "cell_type": "code",
   "execution_count": 22,
   "metadata": {},
   "outputs": [
    {
     "name": "stdout",
     "output_type": "stream",
     "text": [
      "1\n",
      "3\n",
      "(1, 2, 4)\n",
      "(1, 1, 2, 3, 4, 10, 10, 10, 10, 10, 10)\n",
      "11\n"
     ]
    }
   ],
   "source": [
    "print(a[0])\n",
    "print(a[3])\n",
    "print(a[0:5:2])\n",
    "#start:stop:step\n",
    "len(a)\n",
    "a=a+(10,)\n",
    "print(a)\n",
    "print(len(a))"
   ]
  },
  {
   "cell_type": "code",
   "execution_count": 29,
   "metadata": {},
   "outputs": [
    {
     "name": "stdout",
     "output_type": "stream",
     "text": [
      "(1, 'padam', 'khare', 47)\n",
      "4\n",
      "[99, 'khare', 'padam']\n",
      "3\n"
     ]
    },
    {
     "data": {
      "text/plain": [
       "tuple"
      ]
     },
     "execution_count": 29,
     "metadata": {},
     "output_type": "execute_result"
    }
   ],
   "source": [
    "b=(1,\"padam\",\"khare\",47)\n",
    "print(b)\n",
    "print(len(b))\n",
    "c=[99,\"khare\",\"padam\"]\n",
    "print(c)\n",
    "print(len(c))\n",
    "type(c)\n",
    "type(b)"
   ]
  },
  {
   "cell_type": "code",
   "execution_count": 31,
   "metadata": {},
   "outputs": [
    {
     "data": {
      "text/plain": [
       "list"
      ]
     },
     "execution_count": 31,
     "metadata": {},
     "output_type": "execute_result"
    }
   ],
   "source": [
    "type(c)"
   ]
  },
  {
   "cell_type": "code",
   "execution_count": 50,
   "metadata": {},
   "outputs": [
    {
     "name": "stdout",
     "output_type": "stream",
     "text": [
      "[1, 'padam', 'khare']\n",
      "(1, 'padam', 'khare')\n",
      "(1,)\n",
      "2\n",
      "('khare', 'padam', 1)\n"
     ]
    }
   ],
   "source": [
    "b=(1,\"padam\",\"khare\",47)\n",
    "listx=list(b)\n",
    "type(listx)\n",
    "listx.remove(47)\n",
    "print(listx)\n",
    "type(listx)\n",
    "tuplex=tuple(listx)\n",
    "print(tuplex)\n",
    "type(tuplex)\n",
    "print(tuplex[0:1])\n",
    "ind=tuplex.index(\"khare\")\n",
    "print(ind)\n",
    "x=reversed(tuplex)\n",
    "print(tuple(x))"
   ]
  },
  {
   "cell_type": "code",
   "execution_count": 56,
   "metadata": {},
   "outputs": [
    {
     "name": "stdout",
     "output_type": "stream",
     "text": [
      "(1, 'padam', 'khare')\n",
      "1\n",
      "padam\n",
      "khare\n",
      "3\n"
     ]
    }
   ],
   "source": [
    "print(tuplex)\n",
    "count=0\n",
    "for item in tuplex:\n",
    "    print(item)\n",
    "    count=count+1\n",
    "print(count)\n"
   ]
  },
  {
   "cell_type": "code",
   "execution_count": null,
   "metadata": {},
   "outputs": [],
   "source": []
  },
  {
   "cell_type": "code",
   "execution_count": null,
   "metadata": {},
   "outputs": [],
   "source": []
  }
 ],
 "metadata": {
  "kernelspec": {
   "display_name": "Python 3",
   "language": "python",
   "name": "python3"
  },
  "language_info": {
   "codemirror_mode": {
    "name": "ipython",
    "version": 3
   },
   "file_extension": ".py",
   "mimetype": "text/x-python",
   "name": "python",
   "nbconvert_exporter": "python",
   "pygments_lexer": "ipython3",
   "version": "3.7.3"
  }
 },
 "nbformat": 4,
 "nbformat_minor": 2
}
