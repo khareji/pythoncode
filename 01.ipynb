{
 "cells": [
  {
   "cell_type": "markdown",
   "metadata": {},
   "source": [
    "# string"
   ]
  },
  {
   "cell_type": "code",
   "execution_count": 46,
   "metadata": {
    "scrolled": true
   },
   "outputs": [
    {
     "name": "stdout",
     "output_type": "stream",
     "text": [
      "padam khare \n",
      "hello data science engineers\n",
      "01 feb batch 01/02/twenty twenty\n",
      "space is also incluided in string\n"
     ]
    }
   ],
   "source": [
    "print(\"padam khare \")\n",
    "print('hello data science engineers')\n",
    "print(\"01 feb batch 01/02/twenty twenty\")\n",
    "print(\"space is also incluided in string\")"
   ]
  },
  {
   "cell_type": "markdown",
   "metadata": {},
   "source": [
    "# index"
   ]
  },
  {
   "cell_type": "code",
   "execution_count": 6,
   "metadata": {},
   "outputs": [
    {
     "name": "stdout",
     "output_type": "stream",
     "text": [
      "im index zero c\n"
     ]
    }
   ],
   "source": [
    "a=\"corona\"\n",
    "print(\"im index zero \" +a[0])"
   ]
  },
  {
   "cell_type": "code",
   "execution_count": 8,
   "metadata": {},
   "outputs": [
    {
     "name": "stdout",
     "output_type": "stream",
     "text": [
      "im index zero o\n"
     ]
    }
   ],
   "source": [
    "print(\"im index 3 \" +a[3])"
   ]
  },
  {
   "cell_type": "code",
   "execution_count": 9,
   "metadata": {},
   "outputs": [
    {
     "name": "stdout",
     "output_type": "stream",
     "text": [
      "im index zero a\n"
     ]
    }
   ],
   "source": [
    "print(\"im index last \" +a[-1])"
   ]
  },
  {
   "cell_type": "markdown",
   "metadata": {},
   "source": [
    "# slicing"
   ]
  },
  {
   "cell_type": "code",
   "execution_count": 43,
   "metadata": {},
   "outputs": [
    {
     "data": {
      "text/plain": [
       "'one plus'"
      ]
     },
     "execution_count": 43,
     "metadata": {},
     "output_type": "execute_result"
    }
   ],
   "source": [
    "a=\"one plus\"\n",
    "a"
   ]
  },
  {
   "cell_type": "code",
   "execution_count": 44,
   "metadata": {},
   "outputs": [
    {
     "data": {
      "text/plain": [
       "'oepu'"
      ]
     },
     "execution_count": 44,
     "metadata": {},
     "output_type": "execute_result"
    }
   ],
   "source": [
    "a[::2] #taking step size 2"
   ]
  },
  {
   "cell_type": "code",
   "execution_count": 45,
   "metadata": {},
   "outputs": [
    {
     "data": {
      "text/plain": [
       "'ne p'"
      ]
     },
     "execution_count": 45,
     "metadata": {},
     "output_type": "execute_result"
    }
   ],
   "source": [
    "a[1:5:] # here starting from index 1 going till index "
   ]
  },
  {
   "cell_type": "code",
   "execution_count": null,
   "metadata": {},
   "outputs": [],
   "source": []
  },
  {
   "cell_type": "markdown",
   "metadata": {},
   "source": [
    "# concatenation"
   ]
  },
  {
   "cell_type": "code",
   "execution_count": 57,
   "metadata": {},
   "outputs": [
    {
     "name": "stdout",
     "output_type": "stream",
     "text": [
      "oneplusapplerealmesumsung\n"
     ]
    }
   ],
   "source": [
    "a=\"oneplus\"\n",
    "b=\"apple\"\n",
    "c=\"realme\"\n",
    "d=\"sumsung\"\n",
    "print(a+b+c+d)"
   ]
  },
  {
   "cell_type": "code",
   "execution_count": 58,
   "metadata": {},
   "outputs": [
    {
     "name": "stdout",
     "output_type": "stream",
     "text": [
      "oneplusapplerealmesumsung\n"
     ]
    }
   ],
   "source": [
    "e=a+b+c+d\n",
    "print(e)"
   ]
  },
  {
   "cell_type": "code",
   "execution_count": 63,
   "metadata": {},
   "outputs": [
    {
     "name": "stdout",
     "output_type": "stream",
     "text": [
      "hello im oneplus\n",
      "hello im apple\n",
      "hello imrealme\n",
      "hello imsumsung \n"
     ]
    }
   ],
   "source": [
    "a=\"oneplus\"\n",
    "b=\"apple\"\n",
    "c=\"realme\"\n",
    "d=\"sumsung\"\n",
    "print(\"hello im {}\\nhello im {}\\nhello im{}\\nhello im{} \" .format(a,b,c,d))"
   ]
  },
  {
   "cell_type": "markdown",
   "metadata": {},
   "source": []
  },
  {
   "cell_type": "markdown",
   "metadata": {},
   "source": [
    "# code whcih descibe all "
   ]
  },
  {
   "cell_type": "code",
   "execution_count": 110,
   "metadata": {},
   "outputs": [
    {
     "name": "stdout",
     "output_type": "stream",
     "text": [
      "padam22vivek22himanshu23akshay23\n",
      "value  p at  0\n",
      "value  a at  1\n",
      "value  d at  2\n",
      "value  a at  3\n",
      "value  m at  4\n",
      "value  2 at  5\n",
      "value  2 at  6\n",
      "value  v at  7\n",
      "value  i at  8\n",
      "value  v at  9\n",
      "value  e at  10\n",
      "value  k at  11\n",
      "value  2 at  12\n",
      "value  2 at  13\n",
      "value  h at  14\n",
      "value  i at  15\n",
      "value  m at  16\n",
      "value  a at  17\n",
      "value  n at  18\n",
      "value  s at  19\n",
      "value  h at  20\n",
      "value  u at  21\n",
      "value  2 at  22\n",
      "value  3 at  23\n",
      "value  a at  24\n",
      "value  k at  25\n",
      "value  s at  26\n",
      "value  h at  27\n",
      "value  a at  28\n",
      "value  y at  29\n",
      "value  2 at  30\n",
      "value  3 at  31\n",
      "pdm2ie2hmnh2asa2\n"
     ]
    }
   ],
   "source": [
    "a=\"padam\"\n",
    "agea=\"22\" \n",
    "b=\"vivek\"\n",
    "ageb=\"22\"\n",
    "c=\"himanshu\" \n",
    "agec=\"23\" \n",
    "d=\"akshay\" \n",
    "aged=\"23\"\n",
    "all= a + agea + b + ageb + c +agec +d +aged\n",
    "print(all)\n",
    "index=0\n",
    "for i in all:\n",
    "    \n",
    "    print(\"value  {} at  {}\" .format(i,index))\n",
    "    index =index+1\n",
    "t=all[::2] #step size2\n",
    "print(t)"
   ]
  },
  {
   "cell_type": "code",
   "execution_count": null,
   "metadata": {},
   "outputs": [],
   "source": []
  },
  {
   "cell_type": "code",
   "execution_count": null,
   "metadata": {},
   "outputs": [],
   "source": []
  }
 ],
 "metadata": {
  "kernelspec": {
   "display_name": "Python 3",
   "language": "python",
   "name": "python3"
  },
  "language_info": {
   "codemirror_mode": {
    "name": "ipython",
    "version": 3
   },
   "file_extension": ".py",
   "mimetype": "text/x-python",
   "name": "python",
   "nbconvert_exporter": "python",
   "pygments_lexer": "ipython3",
   "version": "3.7.3"
  }
 },
 "nbformat": 4,
 "nbformat_minor": 2
}
