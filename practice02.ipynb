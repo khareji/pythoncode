{
 "cells": [
  {
   "cell_type": "code",
   "execution_count": 2,
   "metadata": {},
   "outputs": [
    {
     "name": "stdout",
     "output_type": "stream",
     "text": [
      "1\n",
      "2\n",
      "3\n",
      "4\n",
      "5\n"
     ]
    }
   ],
   "source": [
    "list=[1,2,3,4,5]\n",
    "for item in list:\n",
    "    print(item)"
   ]
  },
  {
   "cell_type": "code",
   "execution_count": 7,
   "metadata": {},
   "outputs": [
    {
     "name": "stdout",
     "output_type": "stream",
     "text": [
      "1\n",
      "6\n",
      "[1, 2, 3, 4, 5]\n",
      "[1, 2, 3, 4, 5, 6, 1, 2, 3, 4, 5]\n",
      "[1, 2, 3, 4, 5, 6]\n",
      "[1, 2, 3, 4, 5]\n"
     ]
    }
   ],
   "source": [
    "print(list[0])\n",
    "\n",
    "print(list[-1])\n",
    "list2=[1,2,3,4,5]\n",
    "print(list2)\n",
    "print(list + list2)\n",
    "print(list)\n",
    "print(list2)\n"
   ]
  },
  {
   "cell_type": "code",
   "execution_count": 13,
   "metadata": {},
   "outputs": [
    {
     "name": "stdout",
     "output_type": "stream",
     "text": [
      "[1, 2, 3, 4, 5, 6]\n",
      "[1, 2, 3, 4, 5, 6, 7]\n",
      "[1, 2, 3, 4, 5]\n",
      "[1, 2, 3, 4]\n",
      "[1, 2, 3, 4, 5, 6, 7]\n",
      "28\n",
      "5040\n"
     ]
    }
   ],
   "source": [
    "list=[1,2,3,4,5]\n",
    "list2=[1,2,3,4,5]\n",
    "list.append(6)\n",
    "print(list)\n",
    "list.append(7)\n",
    "print(list)\n",
    "print(list2)\n",
    "list2.remove(5)\n",
    "print(list2)\n",
    "sum=0\n",
    "mut=1\n",
    "print(list)\n",
    "for item in list:\n",
    "    sum=sum+item\n",
    "    mut*=item\n",
    "    \n",
    "    \n",
    "print(sum)\n",
    "print(mut)\n"
   ]
  },
  {
   "cell_type": "code",
   "execution_count": 18,
   "metadata": {},
   "outputs": [
    {
     "name": "stdout",
     "output_type": "stream",
     "text": [
      "[1, 2, 3, 4, 5, 6, 7]\n",
      "6\n",
      "7\n"
     ]
    }
   ],
   "source": [
    "print(list)\n",
    "for item in list:\n",
    "    if item>5 in list:\n",
    "        print(item)\n"
   ]
  },
  {
   "cell_type": "code",
   "execution_count": 14,
   "metadata": {},
   "outputs": [
    {
     "name": "stdout",
     "output_type": "stream",
     "text": [
      "[0, 1, 3, 4, 5, 5, 6, 9, 10]\n",
      "[10, 9, 6, 5, 5, 4, 3, 1, 0]\n"
     ]
    }
   ],
   "source": [
    "hello=[3,5,6,4,1,5,9,10,0]\n",
    "type(hello)\n",
    "len(hello)\n",
    "hello.sort()\n",
    "print(hello)\n",
    "hello.sort(reverse=True)\n",
    "print(hello)\n"
   ]
  },
  {
   "cell_type": "code",
   "execution_count": 16,
   "metadata": {},
   "outputs": [
    {
     "name": "stdout",
     "output_type": "stream",
     "text": [
      "[1, 2, 3]\n",
      "[1, 2, 3]\n"
     ]
    }
   ],
   "source": [
    "a=[1,2,3]\n",
    "b=list(a)\n",
    "print(a)\n",
    "print(b)"
   ]
  },
  {
   "cell_type": "code",
   "execution_count": 26,
   "metadata": {},
   "outputs": [
    {
     "name": "stdout",
     "output_type": "stream",
     "text": [
      "[3, 5, 6, 4, 1, 5, 9, 10, 0]\n",
      "[3, 5, 6, 4, 1]\n",
      "[3, 5, 6, 4, 1, 5, 9, 10, 0]\n"
     ]
    }
   ],
   "source": [
    "hello=[3,5,6,4,1,5,9,10,0]\n",
    "print(hello)\n",
    "print(hello[0:5])\n",
    "print(hello[0::1])"
   ]
  },
  {
   "cell_type": "code",
   "execution_count": 37,
   "metadata": {},
   "outputs": [
    {
     "name": "stdout",
     "output_type": "stream",
     "text": [
      "[1, 2, 3, 4, 5, 6, 7, 8, 9]\n"
     ]
    }
   ],
   "source": [
    "list=[1,2,3,4,5,6,7,8,9]\n",
    "print(list)\n",
    "list.insert(0,0)\n",
    "list\n",
    "list.remove(9)\n",
    "list\n",
    "list.pop()\n"
   ]
  },
  {
   "cell_type": "code",
   "execution_count": 39,
   "metadata": {},
   "outputs": [],
   "source": []
  },
  {
   "cell_type": "code",
   "execution_count": null,
   "metadata": {},
   "outputs": [],
   "source": []
  },
  {
   "cell_type": "code",
   "execution_count": null,
   "metadata": {},
   "outputs": [],
   "source": []
  }
 ],
 "metadata": {
  "kernelspec": {
   "display_name": "Python 3",
   "language": "python",
   "name": "python3"
  },
  "language_info": {
   "codemirror_mode": {
    "name": "ipython",
    "version": 3
   },
   "file_extension": ".py",
   "mimetype": "text/x-python",
   "name": "python",
   "nbconvert_exporter": "python",
   "pygments_lexer": "ipython3",
   "version": "3.7.3"
  }
 },
 "nbformat": 4,
 "nbformat_minor": 2
}
